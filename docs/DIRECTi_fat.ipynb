{
 "cells": [
  {
   "cell_type": "markdown",
   "metadata": {},
   "source": [
    "# DIRECTi tutorial"
   ]
  },
  {
   "cell_type": "code",
   "execution_count": 10,
   "metadata": {},
   "outputs": [],
   "source": [
    "import warnings\n",
    "import anndata\n",
    "import scanpy as sc\n",
    "import Cell_BLAST as cb\n",
    "import os\n",
    "\n",
    "warnings.simplefilter(\"ignore\")\n",
    "cb.config.RANDOM_SEED = 0"
   ]
  },
  {
   "cell_type": "markdown",
   "metadata": {},
   "source": [
    "## Load data"
   ]
  },
  {
   "attachments": {},
   "cell_type": "markdown",
   "metadata": {},
   "source": [
    "Demo dataset: Fat_droplet"
   ]
  },
  {
   "cell_type": "code",
   "execution_count": 2,
   "metadata": {},
   "outputs": [],
   "source": [
    "data_dir = \"/home/cnic02/wangyn/data/figshare\"\n",
    "fat = anndata.read_h5ad(os.path.join(data_dir, 'Fat_droplet.h5ad'))"
   ]
  },
  {
   "cell_type": "code",
   "execution_count": 16,
   "metadata": {},
   "outputs": [
    {
     "data": {
      "text/html": [
       "<div>\n",
       "<style scoped>\n",
       "    .dataframe tbody tr th:only-of-type {\n",
       "        vertical-align: middle;\n",
       "    }\n",
       "\n",
       "    .dataframe tbody tr th {\n",
       "        vertical-align: top;\n",
       "    }\n",
       "\n",
       "    .dataframe thead th {\n",
       "        text-align: right;\n",
       "    }\n",
       "</style>\n",
       "<table border=\"1\" class=\"dataframe\">\n",
       "  <thead>\n",
       "    <tr style=\"text-align: right;\">\n",
       "      <th></th>\n",
       "      <th>age</th>\n",
       "      <th>batch</th>\n",
       "      <th>cell</th>\n",
       "      <th>cell_ontology_class</th>\n",
       "      <th>cell_ontology_id</th>\n",
       "      <th>free_annotation</th>\n",
       "      <th>method</th>\n",
       "      <th>mouse.id</th>\n",
       "      <th>n_genes</th>\n",
       "      <th>sex</th>\n",
       "      <th>subtissue</th>\n",
       "      <th>tissue</th>\n",
       "      <th>tissue_free_annotation</th>\n",
       "      <th>n_counts</th>\n",
       "      <th>louvain</th>\n",
       "      <th>cluster_names</th>\n",
       "    </tr>\n",
       "    <tr>\n",
       "      <th>index</th>\n",
       "      <th></th>\n",
       "      <th></th>\n",
       "      <th></th>\n",
       "      <th></th>\n",
       "      <th></th>\n",
       "      <th></th>\n",
       "      <th></th>\n",
       "      <th></th>\n",
       "      <th></th>\n",
       "      <th></th>\n",
       "      <th></th>\n",
       "      <th></th>\n",
       "      <th></th>\n",
       "      <th></th>\n",
       "      <th></th>\n",
       "      <th></th>\n",
       "    </tr>\n",
       "  </thead>\n",
       "  <tbody>\n",
       "    <tr>\n",
       "      <th>AAAGTAGTCTCATTCA-1-6-0-0</th>\n",
       "      <td>18m</td>\n",
       "      <td>0</td>\n",
       "      <td>MACA_18m_F_GAT_50_AAAGTAGTCTCATTCA</td>\n",
       "      <td>endothelial cell</td>\n",
       "      <td>CL:0000115</td>\n",
       "      <td>Cd36+</td>\n",
       "      <td>droplet</td>\n",
       "      <td>18-F-50</td>\n",
       "      <td>1240</td>\n",
       "      <td>female</td>\n",
       "      <td>Gat</td>\n",
       "      <td>Fat</td>\n",
       "      <td>Fat</td>\n",
       "      <td>3139.0</td>\n",
       "      <td>0</td>\n",
       "      <td>0_endothelial cell</td>\n",
       "    </tr>\n",
       "    <tr>\n",
       "      <th>AACCGCGAGCCGATTT-1-6-0-0</th>\n",
       "      <td>18m</td>\n",
       "      <td>0</td>\n",
       "      <td>MACA_18m_F_GAT_50_AACCGCGAGCCGATTT</td>\n",
       "      <td>B cell</td>\n",
       "      <td>CL:0000236</td>\n",
       "      <td>NA</td>\n",
       "      <td>droplet</td>\n",
       "      <td>18-F-50</td>\n",
       "      <td>1309</td>\n",
       "      <td>female</td>\n",
       "      <td>Gat</td>\n",
       "      <td>Fat</td>\n",
       "      <td>Fat</td>\n",
       "      <td>4312.0</td>\n",
       "      <td>2</td>\n",
       "      <td>2_B cell</td>\n",
       "    </tr>\n",
       "    <tr>\n",
       "      <th>AACTCCCAGGCATGTG-1-6-0-0</th>\n",
       "      <td>18m</td>\n",
       "      <td>0</td>\n",
       "      <td>MACA_18m_F_GAT_50_AACTCCCAGGCATGTG</td>\n",
       "      <td>T cell</td>\n",
       "      <td>CL:0000084</td>\n",
       "      <td>NA</td>\n",
       "      <td>droplet</td>\n",
       "      <td>18-F-50</td>\n",
       "      <td>978</td>\n",
       "      <td>female</td>\n",
       "      <td>Gat</td>\n",
       "      <td>Fat</td>\n",
       "      <td>Fat</td>\n",
       "      <td>4022.0</td>\n",
       "      <td>5</td>\n",
       "      <td>5_T cell</td>\n",
       "    </tr>\n",
       "    <tr>\n",
       "      <th>AACTCTTTCTTACCTA-1-6-0-0</th>\n",
       "      <td>18m</td>\n",
       "      <td>0</td>\n",
       "      <td>MACA_18m_F_GAT_50_AACTCTTTCTTACCTA</td>\n",
       "      <td>endothelial cell</td>\n",
       "      <td>CL:0000115</td>\n",
       "      <td>Cd36+</td>\n",
       "      <td>droplet</td>\n",
       "      <td>18-F-50</td>\n",
       "      <td>4094</td>\n",
       "      <td>female</td>\n",
       "      <td>Gat</td>\n",
       "      <td>Fat</td>\n",
       "      <td>Fat</td>\n",
       "      <td>22540.0</td>\n",
       "      <td>13</td>\n",
       "      <td>13_endothelial cell</td>\n",
       "    </tr>\n",
       "    <tr>\n",
       "      <th>AACTGGTCAGGGAGAG-1-6-0-0</th>\n",
       "      <td>18m</td>\n",
       "      <td>0</td>\n",
       "      <td>MACA_18m_F_GAT_50_AACTGGTCAGGGAGAG</td>\n",
       "      <td>B cell</td>\n",
       "      <td>CL:0000236</td>\n",
       "      <td>NA</td>\n",
       "      <td>droplet</td>\n",
       "      <td>18-F-50</td>\n",
       "      <td>3240</td>\n",
       "      <td>female</td>\n",
       "      <td>Gat</td>\n",
       "      <td>Fat</td>\n",
       "      <td>Fat</td>\n",
       "      <td>12867.0</td>\n",
       "      <td>15</td>\n",
       "      <td>15_B cell</td>\n",
       "    </tr>\n",
       "  </tbody>\n",
       "</table>\n",
       "</div>"
      ],
      "text/plain": [
       "                          age batch                                cell   \n",
       "index                                                                     \n",
       "AAAGTAGTCTCATTCA-1-6-0-0  18m     0  MACA_18m_F_GAT_50_AAAGTAGTCTCATTCA  \\\n",
       "AACCGCGAGCCGATTT-1-6-0-0  18m     0  MACA_18m_F_GAT_50_AACCGCGAGCCGATTT   \n",
       "AACTCCCAGGCATGTG-1-6-0-0  18m     0  MACA_18m_F_GAT_50_AACTCCCAGGCATGTG   \n",
       "AACTCTTTCTTACCTA-1-6-0-0  18m     0  MACA_18m_F_GAT_50_AACTCTTTCTTACCTA   \n",
       "AACTGGTCAGGGAGAG-1-6-0-0  18m     0  MACA_18m_F_GAT_50_AACTGGTCAGGGAGAG   \n",
       "\n",
       "                         cell_ontology_class cell_ontology_id free_annotation   \n",
       "index                                                                           \n",
       "AAAGTAGTCTCATTCA-1-6-0-0    endothelial cell       CL:0000115           Cd36+  \\\n",
       "AACCGCGAGCCGATTT-1-6-0-0              B cell       CL:0000236              NA   \n",
       "AACTCCCAGGCATGTG-1-6-0-0              T cell       CL:0000084              NA   \n",
       "AACTCTTTCTTACCTA-1-6-0-0    endothelial cell       CL:0000115           Cd36+   \n",
       "AACTGGTCAGGGAGAG-1-6-0-0              B cell       CL:0000236              NA   \n",
       "\n",
       "                           method mouse.id  n_genes     sex subtissue tissue   \n",
       "index                                                                          \n",
       "AAAGTAGTCTCATTCA-1-6-0-0  droplet  18-F-50     1240  female       Gat    Fat  \\\n",
       "AACCGCGAGCCGATTT-1-6-0-0  droplet  18-F-50     1309  female       Gat    Fat   \n",
       "AACTCCCAGGCATGTG-1-6-0-0  droplet  18-F-50      978  female       Gat    Fat   \n",
       "AACTCTTTCTTACCTA-1-6-0-0  droplet  18-F-50     4094  female       Gat    Fat   \n",
       "AACTGGTCAGGGAGAG-1-6-0-0  droplet  18-F-50     3240  female       Gat    Fat   \n",
       "\n",
       "                         tissue_free_annotation  n_counts louvain   \n",
       "index                                                               \n",
       "AAAGTAGTCTCATTCA-1-6-0-0                    Fat    3139.0       0  \\\n",
       "AACCGCGAGCCGATTT-1-6-0-0                    Fat    4312.0       2   \n",
       "AACTCCCAGGCATGTG-1-6-0-0                    Fat    4022.0       5   \n",
       "AACTCTTTCTTACCTA-1-6-0-0                    Fat   22540.0      13   \n",
       "AACTGGTCAGGGAGAG-1-6-0-0                    Fat   12867.0      15   \n",
       "\n",
       "                                cluster_names  \n",
       "index                                          \n",
       "AAAGTAGTCTCATTCA-1-6-0-0   0_endothelial cell  \n",
       "AACCGCGAGCCGATTT-1-6-0-0             2_B cell  \n",
       "AACTCCCAGGCATGTG-1-6-0-0             5_T cell  \n",
       "AACTCTTTCTTACCTA-1-6-0-0  13_endothelial cell  \n",
       "AACTGGTCAGGGAGAG-1-6-0-0            15_B cell  "
      ]
     },
     "execution_count": 16,
     "metadata": {},
     "output_type": "execute_result"
    }
   ],
   "source": [
    "fat.obs.head() #  data descriptions"
   ]
  },
  {
   "cell_type": "code",
   "execution_count": 17,
   "metadata": {},
   "outputs": [
    {
     "data": {
      "text/html": [
       "<div>\n",
       "<style scoped>\n",
       "    .dataframe tbody tr th:only-of-type {\n",
       "        vertical-align: middle;\n",
       "    }\n",
       "\n",
       "    .dataframe tbody tr th {\n",
       "        vertical-align: top;\n",
       "    }\n",
       "\n",
       "    .dataframe thead th {\n",
       "        text-align: right;\n",
       "    }\n",
       "</style>\n",
       "<table border=\"1\" class=\"dataframe\">\n",
       "  <thead>\n",
       "    <tr style=\"text-align: right;\">\n",
       "      <th>index</th>\n",
       "      <th>Xkr4</th>\n",
       "      <th>Rp1</th>\n",
       "      <th>Sox17</th>\n",
       "      <th>Mrpl15</th>\n",
       "      <th>Lypla1</th>\n",
       "      <th>Tcea1</th>\n",
       "      <th>Rgs20</th>\n",
       "      <th>Atp6v1h</th>\n",
       "      <th>Oprk1</th>\n",
       "      <th>Npbwr1</th>\n",
       "      <th>...</th>\n",
       "      <th>Uty</th>\n",
       "      <th>Ddx3y</th>\n",
       "      <th>Usp9y</th>\n",
       "      <th>Rbmy1a1</th>\n",
       "      <th>LOC100039753</th>\n",
       "      <th>LOC434960</th>\n",
       "      <th>LOC380994</th>\n",
       "      <th>LOC100041346</th>\n",
       "      <th>Sly</th>\n",
       "      <th>Erdr1</th>\n",
       "    </tr>\n",
       "    <tr>\n",
       "      <th>index</th>\n",
       "      <th></th>\n",
       "      <th></th>\n",
       "      <th></th>\n",
       "      <th></th>\n",
       "      <th></th>\n",
       "      <th></th>\n",
       "      <th></th>\n",
       "      <th></th>\n",
       "      <th></th>\n",
       "      <th></th>\n",
       "      <th></th>\n",
       "      <th></th>\n",
       "      <th></th>\n",
       "      <th></th>\n",
       "      <th></th>\n",
       "      <th></th>\n",
       "      <th></th>\n",
       "      <th></th>\n",
       "      <th></th>\n",
       "      <th></th>\n",
       "      <th></th>\n",
       "    </tr>\n",
       "  </thead>\n",
       "  <tbody>\n",
       "    <tr>\n",
       "      <th>AAAGTAGTCTCATTCA-1-6-0-0</th>\n",
       "      <td>0.0</td>\n",
       "      <td>0.0</td>\n",
       "      <td>5.370759</td>\n",
       "      <td>0.000000</td>\n",
       "      <td>0.000000</td>\n",
       "      <td>0.000000</td>\n",
       "      <td>0.0</td>\n",
       "      <td>0.00000</td>\n",
       "      <td>0.0</td>\n",
       "      <td>0.0</td>\n",
       "      <td>...</td>\n",
       "      <td>0.0</td>\n",
       "      <td>0.000000</td>\n",
       "      <td>0.0</td>\n",
       "      <td>0.0</td>\n",
       "      <td>0.0</td>\n",
       "      <td>0.0</td>\n",
       "      <td>0.0</td>\n",
       "      <td>0.0</td>\n",
       "      <td>0.0</td>\n",
       "      <td>0.000000</td>\n",
       "    </tr>\n",
       "    <tr>\n",
       "      <th>AACCGCGAGCCGATTT-1-6-0-0</th>\n",
       "      <td>0.0</td>\n",
       "      <td>0.0</td>\n",
       "      <td>0.000000</td>\n",
       "      <td>0.000000</td>\n",
       "      <td>0.000000</td>\n",
       "      <td>0.000000</td>\n",
       "      <td>0.0</td>\n",
       "      <td>0.00000</td>\n",
       "      <td>0.0</td>\n",
       "      <td>0.0</td>\n",
       "      <td>...</td>\n",
       "      <td>0.0</td>\n",
       "      <td>0.000000</td>\n",
       "      <td>0.0</td>\n",
       "      <td>0.0</td>\n",
       "      <td>0.0</td>\n",
       "      <td>0.0</td>\n",
       "      <td>0.0</td>\n",
       "      <td>0.0</td>\n",
       "      <td>0.0</td>\n",
       "      <td>0.000000</td>\n",
       "    </tr>\n",
       "    <tr>\n",
       "      <th>AACTCCCAGGCATGTG-1-6-0-0</th>\n",
       "      <td>0.0</td>\n",
       "      <td>0.0</td>\n",
       "      <td>0.000000</td>\n",
       "      <td>0.000000</td>\n",
       "      <td>2.725723</td>\n",
       "      <td>0.000000</td>\n",
       "      <td>0.0</td>\n",
       "      <td>0.00000</td>\n",
       "      <td>0.0</td>\n",
       "      <td>0.0</td>\n",
       "      <td>...</td>\n",
       "      <td>0.0</td>\n",
       "      <td>0.000000</td>\n",
       "      <td>0.0</td>\n",
       "      <td>0.0</td>\n",
       "      <td>0.0</td>\n",
       "      <td>0.0</td>\n",
       "      <td>0.0</td>\n",
       "      <td>0.0</td>\n",
       "      <td>0.0</td>\n",
       "      <td>0.000000</td>\n",
       "    </tr>\n",
       "    <tr>\n",
       "      <th>AACTCTTTCTTACCTA-1-6-0-0</th>\n",
       "      <td>0.0</td>\n",
       "      <td>0.0</td>\n",
       "      <td>0.000000</td>\n",
       "      <td>0.000000</td>\n",
       "      <td>0.000000</td>\n",
       "      <td>0.000000</td>\n",
       "      <td>0.0</td>\n",
       "      <td>0.00000</td>\n",
       "      <td>0.0</td>\n",
       "      <td>0.0</td>\n",
       "      <td>...</td>\n",
       "      <td>0.0</td>\n",
       "      <td>0.000000</td>\n",
       "      <td>0.0</td>\n",
       "      <td>0.0</td>\n",
       "      <td>0.0</td>\n",
       "      <td>0.0</td>\n",
       "      <td>0.0</td>\n",
       "      <td>0.0</td>\n",
       "      <td>0.0</td>\n",
       "      <td>1.983893</td>\n",
       "    </tr>\n",
       "    <tr>\n",
       "      <th>AACTGGTCAGGGAGAG-1-6-0-0</th>\n",
       "      <td>0.0</td>\n",
       "      <td>0.0</td>\n",
       "      <td>0.000000</td>\n",
       "      <td>1.214006</td>\n",
       "      <td>2.626608</td>\n",
       "      <td>0.000000</td>\n",
       "      <td>0.0</td>\n",
       "      <td>1.66431</td>\n",
       "      <td>0.0</td>\n",
       "      <td>0.0</td>\n",
       "      <td>...</td>\n",
       "      <td>0.0</td>\n",
       "      <td>0.000000</td>\n",
       "      <td>0.0</td>\n",
       "      <td>0.0</td>\n",
       "      <td>0.0</td>\n",
       "      <td>0.0</td>\n",
       "      <td>0.0</td>\n",
       "      <td>0.0</td>\n",
       "      <td>0.0</td>\n",
       "      <td>1.117863</td>\n",
       "    </tr>\n",
       "    <tr>\n",
       "      <th>...</th>\n",
       "      <td>...</td>\n",
       "      <td>...</td>\n",
       "      <td>...</td>\n",
       "      <td>...</td>\n",
       "      <td>...</td>\n",
       "      <td>...</td>\n",
       "      <td>...</td>\n",
       "      <td>...</td>\n",
       "      <td>...</td>\n",
       "      <td>...</td>\n",
       "      <td>...</td>\n",
       "      <td>...</td>\n",
       "      <td>...</td>\n",
       "      <td>...</td>\n",
       "      <td>...</td>\n",
       "      <td>...</td>\n",
       "      <td>...</td>\n",
       "      <td>...</td>\n",
       "      <td>...</td>\n",
       "      <td>...</td>\n",
       "      <td>...</td>\n",
       "    </tr>\n",
       "    <tr>\n",
       "      <th>TTTATGCTCCCATTAT-1-36-1-0</th>\n",
       "      <td>0.0</td>\n",
       "      <td>0.0</td>\n",
       "      <td>0.000000</td>\n",
       "      <td>0.000000</td>\n",
       "      <td>0.000000</td>\n",
       "      <td>0.000000</td>\n",
       "      <td>0.0</td>\n",
       "      <td>0.00000</td>\n",
       "      <td>0.0</td>\n",
       "      <td>0.0</td>\n",
       "      <td>...</td>\n",
       "      <td>0.0</td>\n",
       "      <td>0.000000</td>\n",
       "      <td>0.0</td>\n",
       "      <td>0.0</td>\n",
       "      <td>0.0</td>\n",
       "      <td>0.0</td>\n",
       "      <td>0.0</td>\n",
       "      <td>0.0</td>\n",
       "      <td>0.0</td>\n",
       "      <td>0.000000</td>\n",
       "    </tr>\n",
       "    <tr>\n",
       "      <th>TTTCCTCAGATACACA-1-36-1-0</th>\n",
       "      <td>0.0</td>\n",
       "      <td>0.0</td>\n",
       "      <td>0.000000</td>\n",
       "      <td>1.373534</td>\n",
       "      <td>0.000000</td>\n",
       "      <td>1.954779</td>\n",
       "      <td>0.0</td>\n",
       "      <td>0.00000</td>\n",
       "      <td>0.0</td>\n",
       "      <td>0.0</td>\n",
       "      <td>...</td>\n",
       "      <td>0.0</td>\n",
       "      <td>3.701463</td>\n",
       "      <td>0.0</td>\n",
       "      <td>0.0</td>\n",
       "      <td>0.0</td>\n",
       "      <td>0.0</td>\n",
       "      <td>0.0</td>\n",
       "      <td>0.0</td>\n",
       "      <td>0.0</td>\n",
       "      <td>0.000000</td>\n",
       "    </tr>\n",
       "    <tr>\n",
       "      <th>TTTGCGCCAAGGACTG-1-36-1-0</th>\n",
       "      <td>0.0</td>\n",
       "      <td>0.0</td>\n",
       "      <td>0.000000</td>\n",
       "      <td>0.000000</td>\n",
       "      <td>0.000000</td>\n",
       "      <td>3.185467</td>\n",
       "      <td>0.0</td>\n",
       "      <td>0.00000</td>\n",
       "      <td>0.0</td>\n",
       "      <td>0.0</td>\n",
       "      <td>...</td>\n",
       "      <td>0.0</td>\n",
       "      <td>2.968678</td>\n",
       "      <td>0.0</td>\n",
       "      <td>0.0</td>\n",
       "      <td>0.0</td>\n",
       "      <td>0.0</td>\n",
       "      <td>0.0</td>\n",
       "      <td>0.0</td>\n",
       "      <td>0.0</td>\n",
       "      <td>1.770445</td>\n",
       "    </tr>\n",
       "    <tr>\n",
       "      <th>TTTGTCAAGGATGGAA-1-36-1-0</th>\n",
       "      <td>0.0</td>\n",
       "      <td>0.0</td>\n",
       "      <td>0.000000</td>\n",
       "      <td>1.599445</td>\n",
       "      <td>0.000000</td>\n",
       "      <td>0.000000</td>\n",
       "      <td>0.0</td>\n",
       "      <td>0.00000</td>\n",
       "      <td>0.0</td>\n",
       "      <td>0.0</td>\n",
       "      <td>...</td>\n",
       "      <td>0.0</td>\n",
       "      <td>3.681794</td>\n",
       "      <td>0.0</td>\n",
       "      <td>0.0</td>\n",
       "      <td>0.0</td>\n",
       "      <td>0.0</td>\n",
       "      <td>0.0</td>\n",
       "      <td>0.0</td>\n",
       "      <td>0.0</td>\n",
       "      <td>0.000000</td>\n",
       "    </tr>\n",
       "    <tr>\n",
       "      <th>TTTGTCAAGTAGATGT-1-36-1-0</th>\n",
       "      <td>0.0</td>\n",
       "      <td>0.0</td>\n",
       "      <td>0.000000</td>\n",
       "      <td>0.000000</td>\n",
       "      <td>0.000000</td>\n",
       "      <td>0.000000</td>\n",
       "      <td>0.0</td>\n",
       "      <td>0.00000</td>\n",
       "      <td>0.0</td>\n",
       "      <td>0.0</td>\n",
       "      <td>...</td>\n",
       "      <td>0.0</td>\n",
       "      <td>0.000000</td>\n",
       "      <td>0.0</td>\n",
       "      <td>0.0</td>\n",
       "      <td>0.0</td>\n",
       "      <td>0.0</td>\n",
       "      <td>0.0</td>\n",
       "      <td>0.0</td>\n",
       "      <td>0.0</td>\n",
       "      <td>1.607604</td>\n",
       "    </tr>\n",
       "  </tbody>\n",
       "</table>\n",
       "<p>5080 rows × 19860 columns</p>\n",
       "</div>"
      ],
      "text/plain": [
       "index                      Xkr4  Rp1     Sox17    Mrpl15    Lypla1     Tcea1   \n",
       "index                                                                          \n",
       "AAAGTAGTCTCATTCA-1-6-0-0    0.0  0.0  5.370759  0.000000  0.000000  0.000000  \\\n",
       "AACCGCGAGCCGATTT-1-6-0-0    0.0  0.0  0.000000  0.000000  0.000000  0.000000   \n",
       "AACTCCCAGGCATGTG-1-6-0-0    0.0  0.0  0.000000  0.000000  2.725723  0.000000   \n",
       "AACTCTTTCTTACCTA-1-6-0-0    0.0  0.0  0.000000  0.000000  0.000000  0.000000   \n",
       "AACTGGTCAGGGAGAG-1-6-0-0    0.0  0.0  0.000000  1.214006  2.626608  0.000000   \n",
       "...                         ...  ...       ...       ...       ...       ...   \n",
       "TTTATGCTCCCATTAT-1-36-1-0   0.0  0.0  0.000000  0.000000  0.000000  0.000000   \n",
       "TTTCCTCAGATACACA-1-36-1-0   0.0  0.0  0.000000  1.373534  0.000000  1.954779   \n",
       "TTTGCGCCAAGGACTG-1-36-1-0   0.0  0.0  0.000000  0.000000  0.000000  3.185467   \n",
       "TTTGTCAAGGATGGAA-1-36-1-0   0.0  0.0  0.000000  1.599445  0.000000  0.000000   \n",
       "TTTGTCAAGTAGATGT-1-36-1-0   0.0  0.0  0.000000  0.000000  0.000000  0.000000   \n",
       "\n",
       "index                      Rgs20  Atp6v1h  Oprk1  Npbwr1  ...  Uty     Ddx3y   \n",
       "index                                                     ...                  \n",
       "AAAGTAGTCTCATTCA-1-6-0-0     0.0  0.00000    0.0     0.0  ...  0.0  0.000000  \\\n",
       "AACCGCGAGCCGATTT-1-6-0-0     0.0  0.00000    0.0     0.0  ...  0.0  0.000000   \n",
       "AACTCCCAGGCATGTG-1-6-0-0     0.0  0.00000    0.0     0.0  ...  0.0  0.000000   \n",
       "AACTCTTTCTTACCTA-1-6-0-0     0.0  0.00000    0.0     0.0  ...  0.0  0.000000   \n",
       "AACTGGTCAGGGAGAG-1-6-0-0     0.0  1.66431    0.0     0.0  ...  0.0  0.000000   \n",
       "...                          ...      ...    ...     ...  ...  ...       ...   \n",
       "TTTATGCTCCCATTAT-1-36-1-0    0.0  0.00000    0.0     0.0  ...  0.0  0.000000   \n",
       "TTTCCTCAGATACACA-1-36-1-0    0.0  0.00000    0.0     0.0  ...  0.0  3.701463   \n",
       "TTTGCGCCAAGGACTG-1-36-1-0    0.0  0.00000    0.0     0.0  ...  0.0  2.968678   \n",
       "TTTGTCAAGGATGGAA-1-36-1-0    0.0  0.00000    0.0     0.0  ...  0.0  3.681794   \n",
       "TTTGTCAAGTAGATGT-1-36-1-0    0.0  0.00000    0.0     0.0  ...  0.0  0.000000   \n",
       "\n",
       "index                      Usp9y  Rbmy1a1  LOC100039753  LOC434960  LOC380994   \n",
       "index                                                                           \n",
       "AAAGTAGTCTCATTCA-1-6-0-0     0.0      0.0           0.0        0.0        0.0  \\\n",
       "AACCGCGAGCCGATTT-1-6-0-0     0.0      0.0           0.0        0.0        0.0   \n",
       "AACTCCCAGGCATGTG-1-6-0-0     0.0      0.0           0.0        0.0        0.0   \n",
       "AACTCTTTCTTACCTA-1-6-0-0     0.0      0.0           0.0        0.0        0.0   \n",
       "AACTGGTCAGGGAGAG-1-6-0-0     0.0      0.0           0.0        0.0        0.0   \n",
       "...                          ...      ...           ...        ...        ...   \n",
       "TTTATGCTCCCATTAT-1-36-1-0    0.0      0.0           0.0        0.0        0.0   \n",
       "TTTCCTCAGATACACA-1-36-1-0    0.0      0.0           0.0        0.0        0.0   \n",
       "TTTGCGCCAAGGACTG-1-36-1-0    0.0      0.0           0.0        0.0        0.0   \n",
       "TTTGTCAAGGATGGAA-1-36-1-0    0.0      0.0           0.0        0.0        0.0   \n",
       "TTTGTCAAGTAGATGT-1-36-1-0    0.0      0.0           0.0        0.0        0.0   \n",
       "\n",
       "index                      LOC100041346  Sly     Erdr1  \n",
       "index                                                   \n",
       "AAAGTAGTCTCATTCA-1-6-0-0            0.0  0.0  0.000000  \n",
       "AACCGCGAGCCGATTT-1-6-0-0            0.0  0.0  0.000000  \n",
       "AACTCCCAGGCATGTG-1-6-0-0            0.0  0.0  0.000000  \n",
       "AACTCTTTCTTACCTA-1-6-0-0            0.0  0.0  1.983893  \n",
       "AACTGGTCAGGGAGAG-1-6-0-0            0.0  0.0  1.117863  \n",
       "...                                 ...  ...       ...  \n",
       "TTTATGCTCCCATTAT-1-36-1-0           0.0  0.0  0.000000  \n",
       "TTTCCTCAGATACACA-1-36-1-0           0.0  0.0  0.000000  \n",
       "TTTGCGCCAAGGACTG-1-36-1-0           0.0  0.0  1.770445  \n",
       "TTTGTCAAGGATGGAA-1-36-1-0           0.0  0.0  0.000000  \n",
       "TTTGTCAAGTAGATGT-1-36-1-0           0.0  0.0  1.607604  \n",
       "\n",
       "[5080 rows x 19860 columns]"
      ]
     },
     "execution_count": 17,
     "metadata": {},
     "output_type": "execute_result"
    }
   ],
   "source": [
    "fat.to_df() # data: matrix"
   ]
  },
  {
   "cell_type": "markdown",
   "metadata": {},
   "source": [
    "## Gene selection"
   ]
  },
  {
   "cell_type": "markdown",
   "metadata": {},
   "source": [
    "The first step is to select most informative genes which cover most of the data variation. Gene selection can be performed using the [find_variable_genes()](modules/Cell_BLAST.data.rst#Cell_BLAST.data.find_variable_genes) function, which is a reimplementation of the `FindVariableGenes()` function in Seurat v2.\n",
    "\n",
    "In addition to the basic functionality in the Seurat function, we also support gene selection on different \"batches\" of the data, and merging selected genes from individual \"batches\" via a voting strategy. This helps filtering out batch effect related genes. E.g., to mitigate batch effect among 4 different donors in the pancreatic dataset, we specify the grouping variable \"donor\" (column in the `obs` data frame), and leave other parameters as default:"
   ]
  },
  {
   "cell_type": "code",
   "execution_count": 18,
   "metadata": {},
   "outputs": [],
   "source": [
    "%%capture\n",
    "axes = cb.data.find_variable_genes(fat)\n",
    "axes "
   ]
  },
  {
   "cell_type": "code",
   "execution_count": 15,
   "metadata": {},
   "outputs": [
    {
     "ename": "KeyError",
     "evalue": "'variable_genes'",
     "output_type": "error",
     "traceback": [
      "\u001b[0;31m---------------------------------------------------------------------------\u001b[0m",
      "\u001b[0;31mKeyError\u001b[0m                                  Traceback (most recent call last)",
      "File \u001b[0;32m~/miniconda3/envs/cb/lib/python3.9/site-packages/pandas/core/indexes/base.py:3652\u001b[0m, in \u001b[0;36mIndex.get_loc\u001b[0;34m(self, key)\u001b[0m\n\u001b[1;32m   3651\u001b[0m \u001b[39mtry\u001b[39;00m:\n\u001b[0;32m-> 3652\u001b[0m     \u001b[39mreturn\u001b[39;00m \u001b[39mself\u001b[39;49m\u001b[39m.\u001b[39;49m_engine\u001b[39m.\u001b[39;49mget_loc(casted_key)\n\u001b[1;32m   3653\u001b[0m \u001b[39mexcept\u001b[39;00m \u001b[39mKeyError\u001b[39;00m \u001b[39mas\u001b[39;00m err:\n",
      "File \u001b[0;32m~/miniconda3/envs/cb/lib/python3.9/site-packages/pandas/_libs/index.pyx:147\u001b[0m, in \u001b[0;36mpandas._libs.index.IndexEngine.get_loc\u001b[0;34m()\u001b[0m\n",
      "File \u001b[0;32m~/miniconda3/envs/cb/lib/python3.9/site-packages/pandas/_libs/index.pyx:176\u001b[0m, in \u001b[0;36mpandas._libs.index.IndexEngine.get_loc\u001b[0;34m()\u001b[0m\n",
      "File \u001b[0;32mpandas/_libs/hashtable_class_helper.pxi:7080\u001b[0m, in \u001b[0;36mpandas._libs.hashtable.PyObjectHashTable.get_item\u001b[0;34m()\u001b[0m\n",
      "File \u001b[0;32mpandas/_libs/hashtable_class_helper.pxi:7088\u001b[0m, in \u001b[0;36mpandas._libs.hashtable.PyObjectHashTable.get_item\u001b[0;34m()\u001b[0m\n",
      "\u001b[0;31mKeyError\u001b[0m: 'variable_genes'",
      "\nThe above exception was the direct cause of the following exception:\n",
      "\u001b[0;31mKeyError\u001b[0m                                  Traceback (most recent call last)",
      "Cell \u001b[0;32mIn[15], line 1\u001b[0m\n\u001b[0;32m----> 1\u001b[0m fat\u001b[39m.\u001b[39;49mvar[\u001b[39m\"\u001b[39;49m\u001b[39mvariable_genes\u001b[39;49m\u001b[39m\"\u001b[39;49m]\u001b[39m.\u001b[39msum()\n",
      "File \u001b[0;32m~/miniconda3/envs/cb/lib/python3.9/site-packages/pandas/core/frame.py:3760\u001b[0m, in \u001b[0;36mDataFrame.__getitem__\u001b[0;34m(self, key)\u001b[0m\n\u001b[1;32m   3758\u001b[0m \u001b[39mif\u001b[39;00m \u001b[39mself\u001b[39m\u001b[39m.\u001b[39mcolumns\u001b[39m.\u001b[39mnlevels \u001b[39m>\u001b[39m \u001b[39m1\u001b[39m:\n\u001b[1;32m   3759\u001b[0m     \u001b[39mreturn\u001b[39;00m \u001b[39mself\u001b[39m\u001b[39m.\u001b[39m_getitem_multilevel(key)\n\u001b[0;32m-> 3760\u001b[0m indexer \u001b[39m=\u001b[39m \u001b[39mself\u001b[39;49m\u001b[39m.\u001b[39;49mcolumns\u001b[39m.\u001b[39;49mget_loc(key)\n\u001b[1;32m   3761\u001b[0m \u001b[39mif\u001b[39;00m is_integer(indexer):\n\u001b[1;32m   3762\u001b[0m     indexer \u001b[39m=\u001b[39m [indexer]\n",
      "File \u001b[0;32m~/miniconda3/envs/cb/lib/python3.9/site-packages/pandas/core/indexes/base.py:3654\u001b[0m, in \u001b[0;36mIndex.get_loc\u001b[0;34m(self, key)\u001b[0m\n\u001b[1;32m   3652\u001b[0m     \u001b[39mreturn\u001b[39;00m \u001b[39mself\u001b[39m\u001b[39m.\u001b[39m_engine\u001b[39m.\u001b[39mget_loc(casted_key)\n\u001b[1;32m   3653\u001b[0m \u001b[39mexcept\u001b[39;00m \u001b[39mKeyError\u001b[39;00m \u001b[39mas\u001b[39;00m err:\n\u001b[0;32m-> 3654\u001b[0m     \u001b[39mraise\u001b[39;00m \u001b[39mKeyError\u001b[39;00m(key) \u001b[39mfrom\u001b[39;00m \u001b[39merr\u001b[39;00m\n\u001b[1;32m   3655\u001b[0m \u001b[39mexcept\u001b[39;00m \u001b[39mTypeError\u001b[39;00m:\n\u001b[1;32m   3656\u001b[0m     \u001b[39m# If we have a listlike key, _check_indexing_error will raise\u001b[39;00m\n\u001b[1;32m   3657\u001b[0m     \u001b[39m#  InvalidIndexError. Otherwise we fall through and re-raise\u001b[39;00m\n\u001b[1;32m   3658\u001b[0m     \u001b[39m#  the TypeError.\u001b[39;00m\n\u001b[1;32m   3659\u001b[0m     \u001b[39mself\u001b[39m\u001b[39m.\u001b[39m_check_indexing_error(key)\n",
      "\u001b[0;31mKeyError\u001b[0m: 'variable_genes'"
     ]
    }
   ],
   "source": [
    "fat.var[\"variable_genes\"].sum()"
   ]
  },
  {
   "cell_type": "markdown",
   "metadata": {},
   "source": [
    "The gene selection result is by default stored in the \"variable_genes\" column in the `var` data frame, as a boolean mask.\n",
    "\n",
    "By default, genes selected in 50% of the \"batches\" will be preserved, which is controlled by the `min_group_frac` parameter. In cases where cell type composition varies considerably across \"batches\", it might be helpful to reduce the `min_group_frac` cutoff."
   ]
  },
  {
   "cell_type": "markdown",
   "metadata": {},
   "source": [
    "## Unsupervised dimension reduction"
   ]
  },
  {
   "cell_type": "markdown",
   "metadata": {},
   "source": [
    "Now we build and fit a DIRECTi model (for Cell BLAST) with the one-step [fit_DIRECTi()](modules/Cell_BLAST.directi.rst#Cell_BLAST.directi.fit_DIRECTi) function.\n",
    "\n",
    "Note that we passed the raw data and previously selected genes directly. The function will handle data normalization and gene subsetting internally. Performing data normalization or genes subsetting externally beforehand is **NOT** recommended.\n",
    "\n",
    "Also, we set the cell embedding dimensionality to 10, and use a 20-dimensional categorical latent *c*.\n",
    "\n",
    "> Note that though 20-dimensional categorical latent was used, less clusters are formed in the embedding space. This is because the model is flexible to discard categories or to use multiple categories to represent the same cluster if a redundant number of categories is specified. If the data contains one single continuous spectrum of cell states, it can be more appropriate to set `cat_dim` to `None`."
   ]
  },
  {
   "cell_type": "code",
   "execution_count": 3,
   "metadata": {},
   "outputs": [],
   "source": [
    "model = cb.directi.DIRECTi.load(\"/home/cnic02/wangyn/projects/Cell_BLAST/models/directi_fat\")"
   ]
  },
  {
   "cell_type": "markdown",
   "metadata": {},
   "source": [
    "After model training, we can project cells into the cell embedding space using the [inference()](modules/Cell_BLAST.directi.rst#Cell_BLAST.directi.DIRECTi.inference) method."
   ]
  },
  {
   "cell_type": "markdown",
   "metadata": {},
   "source": []
  },
  {
   "cell_type": "code",
   "execution_count": 7,
   "metadata": {},
   "outputs": [
    {
     "data": {
      "text/plain": [
       "(5080, 100)"
      ]
     },
     "execution_count": 7,
     "metadata": {},
     "output_type": "execute_result"
    }
   ],
   "source": [
    "# fat.obsm[\"X_gau\"],fat.obsm[\"X_cat\"], fat.obsm[\"X_latent\"],_ = model.inference(fat)\n",
    "fatty = model.inference(fat)\n",
    "fatty.shape"
   ]
  },
  {
   "cell_type": "code",
   "execution_count": null,
   "metadata": {},
   "outputs": [],
   "source": [
    "print(fat.obsm.keys())"
   ]
  },
  {
   "cell_type": "code",
   "execution_count": null,
   "metadata": {},
   "outputs": [],
   "source": [
    "fat.obsm[\"X_latent\"].shape, fat.obsm['X_umap'].shape, fat.obsm['X_pca'].shape\n"
   ]
  },
  {
   "cell_type": "code",
   "execution_count": null,
   "metadata": {},
   "outputs": [],
   "source": [
    "import pickle\n",
    "with open(\"/home/cnic02/wangyn/projects/Cell_BLAST/gau_semi.pkl\", 'rb') as f:\n",
    "    gau = pickle.load(f)\n",
    "with open(\"/home/cnic02/wangyn/projects/Cell_BLAST/cat_semi.pkl\", 'rb') as f:\n",
    "    cat = pickle.load(f)\n",
    "gau.shape, cat.shape"
   ]
  },
  {
   "cell_type": "code",
   "execution_count": null,
   "metadata": {},
   "outputs": [],
   "source": [
    "fat.obsm[\"gau\"] = gau.cpu()"
   ]
  },
  {
   "cell_type": "code",
   "execution_count": null,
   "metadata": {},
   "outputs": [],
   "source": [
    "sc.pp.neighbors(fat, use_rep=\"gau\")\n",
    "sc.tl.umap(fat)"
   ]
  },
  {
   "cell_type": "code",
   "execution_count": null,
   "metadata": {},
   "outputs": [],
   "source": [
    "sc.pl.umap(fat, color=\"cell_ontology_class\", palette=\"tab20\")"
   ]
  },
  {
   "cell_type": "code",
   "execution_count": null,
   "metadata": {},
   "outputs": [],
   "source": [
    "sc.pp.neighbors(fat, use_rep=\"X_latent\")\n",
    "sc.tl.umap(fat)\n",
    "sc.pl.umap(fat, color=\"cell_ontology_class\", palette=\"tab20\")"
   ]
  },
  {
   "cell_type": "markdown",
   "metadata": {},
   "source": [
    "We see that different cell types can readily be distinguished.\n",
    "\n",
    "This is the prerequisite to successful cell querying. If certain cell types are largely intermingled at this step, they are unlikely to be unambiguously predicted. It might be useful to reconsider the feature selection step or model hyperparameter setting (see function documentation of [find_variable_genes()](modules/Cell_BLAST.data.rst#Cell_BLAST.data.find_variable_genes) and [fit_DIRECTi()](modules/Cell_BLAST.directi.rst#Cell_BLAST.directi.fit_DIRECTi) for details)."
   ]
  },
  {
   "cell_type": "markdown",
   "metadata": {},
   "source": [
    "You can also save the model for future use via the [save()](modules/Cell_BLAST.directi.rst#Cell_BLAST.directi.DIRECTi.save) method. It is straightforward to load a saved model via the [load()](modules/Cell_BLAST.directi.rst#Cell_BLAST.directi.DIRECTi.load) method."
   ]
  },
  {
   "cell_type": "code",
   "execution_count": null,
   "metadata": {},
   "outputs": [],
   "source": [
    "model.save(\"./fat_model\")\n",
    "del model\n",
    "model = cb.directi.DIRECTi.load(\"./fat_model\")"
   ]
  },
  {
   "attachments": {},
   "cell_type": "markdown",
   "metadata": {},
   "source": [
    "We can also project other datasets using the same model.  Eg. \n",
    "Note that we also do not normalize the dataset or subset genes beforehand, as these are handled by the [inference()](modules/Cell_BLAST.directi.rst#Cell_BLAST.directi.DIRECTi.inference) method internally.\n",
    "\n",
    "Also, there will be a warning saying that we have some genes missing in the new dataset, but it doesn't really matter as long as the number is small. Distinct cell types are still well separated."
   ]
  },
  {
   "cell_type": "code",
   "execution_count": null,
   "metadata": {},
   "outputs": [],
   "source": [
    "data_dir = \"/home/cnic02/wangyn/data/figshare/\"\n",
    "import os"
   ]
  },
  {
   "cell_type": "code",
   "execution_count": null,
   "metadata": {},
   "outputs": [],
   "source": [
    "spleen = anndata.read_h5ad(os.path.join(data_dir,\"Spleen_droplet.h5ad\"))\n",
    "spleen.obsm[\"X_latent\"] = model.inference(spleen)"
   ]
  },
  {
   "cell_type": "code",
   "execution_count": null,
   "metadata": {},
   "outputs": [],
   "source": [
    "sc.pp.neighbors(spleen, use_rep=\"X_latent\")\n",
    "sc.tl.umap(spleen)"
   ]
  },
  {
   "cell_type": "code",
   "execution_count": null,
   "metadata": {},
   "outputs": [],
   "source": [
    "sc.pl.umap(spleen, color=\"cell_ontology_class\", palette=\"tab20\")"
   ]
  },
  {
   "cell_type": "markdown",
   "metadata": {},
   "source": [
    "## Batch effect correction"
   ]
  },
  {
   "cell_type": "markdown",
   "metadata": {},
   "source": [
    "Now we demonstrate the function of batch effect correction by training models on a \"meta-dataset\" merged from [Baron_human](http://download.gao-lab.org/Cell_BLAST/tutorial/Baron_human.h5ad), [Segerstolpe](http://download.gao-lab.org/Cell_BLAST/tutorial/Segerstolpe.h5ad), [Muraro](http://download.gao-lab.org/Cell_BLAST/tutorial/Muraro.h5ad), [Xin_2016](http://download.gao-lab.org/Cell_BLAST/tutorial/Xin_2016.h5ad) & [Lawlor](http://download.gao-lab.org/Cell_BLAST/tutorial/Lawlor.h5ad) (all profiling human pancreatic islets), where we expect significant batch effect among different datasets.\n",
    "\n",
    "We first merge different datasets using the [anndata.AnnData.concatenate()](https://anndata.readthedocs.io/en/latest/generated/anndata.AnnData.concatenate.html) function."
   ]
  },
  {
   "cell_type": "code",
   "execution_count": null,
   "metadata": {},
   "outputs": [],
   "source": [
    "combined_adata = anndata.AnnData.concatenate(\n",
    "    anndata.read_h5ad(os.path.join(data_dir,\"Fat_droplet.h5ad\")),\n",
    "    anndata.read_h5ad(os.path.join(data_dir,\"Lung_droplet.h5ad\")),\n",
    "    anndata.read_h5ad(os.path.join(data_dir,\"Mammary_Gland_droplet.h5ad\")),\n",
    "    anndata.read_h5ad(os.path.join(data_dir,\"Skin_droplet.h5ad\")),\n",
    "    anndata.read_h5ad(os.path.join(data_dir,\"Trachea_droplet.h5ad\")),\n",
    "    join=\"outer\", batch_key=\"study\", batch_categories=[\"Fat_droplet\", \"Lung_droplet\", \"Mammary_Gland_droplet\", \"Skin_droplet.h5ad\", \"Trachea_droplet\"]\n",
    ")"
   ]
  },
  {
   "cell_type": "code",
   "execution_count": 14,
   "metadata": {},
   "outputs": [
    {
     "data": {
      "text/plain": [
       "index\n",
       "AAAGTAGTCTCATTCA-1-6-0-0     0\n",
       "AACCGCGAGCCGATTT-1-6-0-0     0\n",
       "AACTCCCAGGCATGTG-1-6-0-0     0\n",
       "AACTCTTTCTTACCTA-1-6-0-0     0\n",
       "AACTGGTCAGGGAGAG-1-6-0-0     0\n",
       "                            ..\n",
       "TTTATGCTCCCATTAT-1-36-1-0    0\n",
       "TTTCCTCAGATACACA-1-36-1-0    0\n",
       "TTTGCGCCAAGGACTG-1-36-1-0    0\n",
       "TTTGTCAAGGATGGAA-1-36-1-0    0\n",
       "TTTGTCAAGTAGATGT-1-36-1-0    0\n",
       "Name: batch, Length: 5080, dtype: category\n",
       "Categories (1, object): ['0']"
      ]
     },
     "execution_count": 14,
     "metadata": {},
     "output_type": "execute_result"
    }
   ],
   "source": [
    "fat.obs.batch"
   ]
  },
  {
   "cell_type": "code",
   "execution_count": null,
   "metadata": {},
   "outputs": [],
   "source": [
    "%%capture\n",
    "axes = cb.data.find_variable_genes(combined_adata, grouping=\"study\", min_group_frac=0.4)"
   ]
  },
  {
   "cell_type": "code",
   "execution_count": null,
   "metadata": {},
   "outputs": [],
   "source": [
    "combined_adata.var[\"variable_genes\"].sum()"
   ]
  },
  {
   "cell_type": "markdown",
   "metadata": {},
   "source": [
    "We first train a model on the \"meta-dataset\" without batch effect correction, and validate that significant batch effect exists among different datasets."
   ]
  },
  {
   "cell_type": "code",
   "execution_count": null,
   "metadata": {},
   "outputs": [],
   "source": [
    "%%capture\n",
    "model = cb.directi.fit_DIRECTi(\n",
    "    combined_adata, genes=combined_adata.var.query(\"variable_genes\").index,\n",
    "    latent_dim=10, cat_dim=20\n",
    ")\n",
    "combined_adata.obsm[\"X_latent\"] = model.inference(combined_adata)"
   ]
  },
  {
   "cell_type": "code",
   "execution_count": null,
   "metadata": {},
   "outputs": [],
   "source": [
    "sc.pp.neighbors(combined_adata, use_rep=\"X_latent\")\n",
    "sc.tl.umap(combined_adata)"
   ]
  },
  {
   "cell_type": "code",
   "execution_count": null,
   "metadata": {},
   "outputs": [],
   "source": [
    "sc.pl.umap(combined_adata, color=\"cell_ontology_class\", palette=\"tab20\")"
   ]
  },
  {
   "cell_type": "code",
   "execution_count": null,
   "metadata": {},
   "outputs": [],
   "source": [
    "sc.pl.umap(combined_adata, color=\"study\", palette=\"tab10\")"
   ]
  },
  {
   "cell_type": "markdown",
   "metadata": {},
   "source": [
    "To perform batch effect correction, specify `batch_effect` as a column in the `obs` slot corresponding to the batch indicator, which is \"study\" in this case."
   ]
  },
  {
   "cell_type": "code",
   "execution_count": null,
   "metadata": {
    "scrolled": false
   },
   "outputs": [],
   "source": [
    "%%capture\n",
    "model_rmbatch = cb.directi.fit_DIRECTi(\n",
    "    combined_adata, genes=combined_adata.var.query(\"variable_genes\").index.to_numpy(),\n",
    "    batch_effect=\"study\", latent_dim=10, cat_dim=20\n",
    ")\n",
    "combined_adata.obsm[\"X_latent\"] = model_rmbatch.inference(combined_adata)"
   ]
  },
  {
   "cell_type": "markdown",
   "metadata": {},
   "source": [
    "We see that batch effect is largely removed in the embedding space. Cells of the same cell type from different studies are well aligned."
   ]
  },
  {
   "cell_type": "code",
   "execution_count": null,
   "metadata": {},
   "outputs": [],
   "source": [
    "sc.pp.neighbors(combined_adata, use_rep=\"X_latent\")\n",
    "sc.tl.umap(combined_adata)"
   ]
  },
  {
   "cell_type": "code",
   "execution_count": null,
   "metadata": {},
   "outputs": [],
   "source": [
    "sc.pl.umap(combined_adata, color=\"cell_ontology_class\", palette=\"tab20\")"
   ]
  },
  {
   "cell_type": "code",
   "execution_count": null,
   "metadata": {},
   "outputs": [],
   "source": [
    "sc.pl.umap(combined_adata, color=\"study\", palette=\"tab10\")"
   ]
  },
  {
   "cell_type": "code",
   "execution_count": null,
   "metadata": {},
   "outputs": [],
   "source": []
  }
 ],
 "metadata": {
  "kernelspec": {
   "display_name": "cb",
   "language": "python",
   "name": "python3"
  },
  "language_info": {
   "codemirror_mode": {
    "name": "ipython",
    "version": 3
   },
   "file_extension": ".py",
   "mimetype": "text/x-python",
   "name": "python",
   "nbconvert_exporter": "python",
   "pygments_lexer": "ipython3",
   "version": "3.9.16"
  },
  "toc": {
   "base_numbering": 1,
   "nav_menu": {},
   "number_sections": true,
   "sideBar": true,
   "skip_h1_title": true,
   "title_cell": "Table of Contents",
   "title_sidebar": "Contents",
   "toc_cell": false,
   "toc_position": {
    "height": "calc(100% - 180px)",
    "left": "10px",
    "top": "150px",
    "width": "288px"
   },
   "toc_section_display": true,
   "toc_window_display": true
  },
  "varInspector": {
   "cols": {
    "lenName": 16,
    "lenType": 16,
    "lenVar": 40
   },
   "kernels_config": {
    "python": {
     "delete_cmd_postfix": "",
     "delete_cmd_prefix": "del ",
     "library": "var_list.py",
     "varRefreshCmd": "print(var_dic_list())"
    },
    "r": {
     "delete_cmd_postfix": ") ",
     "delete_cmd_prefix": "rm(",
     "library": "var_list.r",
     "varRefreshCmd": "cat(var_dic_list()) "
    }
   },
   "types_to_exclude": [
    "module",
    "function",
    "builtin_function_or_method",
    "instance",
    "_Feature"
   ],
   "window_display": false
  }
 },
 "nbformat": 4,
 "nbformat_minor": 4
}
